{
 "cells": [
  {
   "cell_type": "markdown",
   "metadata": {},
   "source": [
    "# Auvlib tutorial\n",
    "\n",
    "## What is auvlib?\n",
    "\n",
    "![Draping example](draping_example.png)\n",
    "\n",
    "auvlib is a python library for parsing and processing data from\n",
    "maritime surveys, mostly sonar data. It is implemented in C++, making it fast.\n",
    "You can download the library from the [github repo](https://github.com/nilsbore/auvlib)\n",
    "or if you use windows, download a pre-built version from\n",
    "[the releases page](https://github.com/nilsbore/auvlib/releases).\n",
    "You can find the documentation for the python library at\n",
    "[the documentation page](https://nilsbore.github.io/auvlib-docs/index.html).\n",
    "\n",
    "## Why auvlib?\n",
    "\n",
    "auvlib aims to make it easy for novices to work with maritime sonar data.\n",
    "In particular, we think it is important with a python interface to\n",
    "enable machine learning people, who are used to python, to work with\n",
    "this data, and use it to train machine learning models such as neural networks.\n",
    "\n",
    "## What will we cover in this tutorial?\n",
    "\n",
    "Because one of the main aims of auvlib is to facilitate sonar data applications\n",
    "of machine learning, we will look at this application.\n",
    "The idea is to go the full way from raw sonar data (multibeam and sidescan)\n",
    "to a neural network that can predict depths by looking at sidescan data.\n",
    "To get there, we will look at three stages of the pipeline:\n",
    "\n",
    "* First, we will look at [parsing data from unprocessed files](parsing.ipynb)\n",
    "* Then we will look at [processing and preparing datasets](processing.ipynb)\n",
    "* Finally, in the third part we will use the data to [train a neural network](training.ipynb)\n",
    "\n",
    "## What is required?\n",
    "\n",
    "* A working auvlib python installation\n",
    "* [jupyter notebook](https://jupyter.org/install) with a python2.7 kernel\n",
    "* [`matplotlib`, `numpy`](https://pypi.org/project/pip/)\n",
    "* [`pytorch`](https://pytorch.org/) (gpu support not needed)"
   ]
  }
 ],
 "metadata": {
  "kernelspec": {
   "display_name": "Python 2",
   "language": "python",
   "name": "python2"
  },
  "language_info": {
   "codemirror_mode": {
    "name": "ipython",
    "version": 2
   },
   "file_extension": ".py",
   "mimetype": "text/x-python",
   "name": "python",
   "nbconvert_exporter": "python",
   "pygments_lexer": "ipython2",
   "version": "2.7.12"
  }
 },
 "nbformat": 4,
 "nbformat_minor": 2
}
